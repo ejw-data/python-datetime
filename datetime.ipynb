{
 "cells": [
  {
   "cell_type": "markdown",
   "id": "db5863c3",
   "metadata": {},
   "source": [
    "# Datetime Conversions and Formatting"
   ]
  },
  {
   "cell_type": "code",
   "execution_count": null,
   "id": "9d745183",
   "metadata": {},
   "outputs": [],
   "source": [
    "# Resources\n",
    "# https://www.earthdatascience.org/courses/use-data-open-source-python/use-time-series-data-in-python/date-time-types-in-pandas-python/\n",
    "# https://www.analyticsvidhya.com/blog/2020/05/datetime-variables-python-pandas/\n",
    "\n",
    "\n",
    "# Notes:\n",
    "# 1) Use gradebook api project to get sample code"
   ]
  },
  {
   "cell_type": "code",
   "execution_count": 1,
   "id": "c1b0122c",
   "metadata": {
    "tags": []
   },
   "outputs": [],
   "source": [
    "import pandas as pd\n",
    "import datetime as dt"
   ]
  },
  {
   "cell_type": "markdown",
   "id": "d3ff109b",
   "metadata": {},
   "source": [
    "### Methods for Converting from String to Datetime"
   ]
  },
  {
   "cell_type": "code",
   "execution_count": null,
   "id": "1b8feece",
   "metadata": {},
   "outputs": [],
   "source": [
    "# Using Pandas read_csv()\n",
    "pd.read_csv(dtype=\"\")"
   ]
  },
  {
   "cell_type": "code",
   "execution_count": null,
   "id": "b9e17aff",
   "metadata": {},
   "outputs": [],
   "source": []
  },
  {
   "cell_type": "code",
   "execution_count": null,
   "id": "903f62ec",
   "metadata": {},
   "outputs": [],
   "source": [
    "# Using pd.to_datetime()\n",
    "pd.to_datetime"
   ]
  },
  {
   "cell_type": "code",
   "execution_count": null,
   "id": "6caebe62",
   "metadata": {},
   "outputs": [],
   "source": []
  },
  {
   "cell_type": "code",
   "execution_count": null,
   "id": "38bd03c2",
   "metadata": {},
   "outputs": [],
   "source": []
  },
  {
   "cell_type": "code",
   "execution_count": null,
   "id": "546e6cd4",
   "metadata": {},
   "outputs": [],
   "source": [
    "\n",
    "pd.to_timedelta()"
   ]
  },
  {
   "cell_type": "code",
   "execution_count": null,
   "id": "2e71def5",
   "metadata": {},
   "outputs": [],
   "source": []
  },
  {
   "cell_type": "code",
   "execution_count": null,
   "id": "621a275d",
   "metadata": {},
   "outputs": [],
   "source": [
    "# Parse string to form datetime dtype\n",
    "dt.datetime.strptime()"
   ]
  },
  {
   "cell_type": "code",
   "execution_count": null,
   "id": "6605c280",
   "metadata": {},
   "outputs": [],
   "source": []
  },
  {
   "cell_type": "code",
   "execution_count": null,
   "id": "bacd055a",
   "metadata": {},
   "outputs": [],
   "source": []
  },
  {
   "cell_type": "markdown",
   "id": "d1c8c5d3",
   "metadata": {},
   "source": [
    "### Timezone Conversions"
   ]
  },
  {
   "cell_type": "code",
   "execution_count": null,
   "id": "6164a706",
   "metadata": {},
   "outputs": [],
   "source": []
  },
  {
   "cell_type": "code",
   "execution_count": null,
   "id": "3f168c04",
   "metadata": {},
   "outputs": [],
   "source": []
  },
  {
   "cell_type": "code",
   "execution_count": null,
   "id": "6401d63c",
   "metadata": {},
   "outputs": [],
   "source": []
  },
  {
   "cell_type": "code",
   "execution_count": null,
   "id": "eb174397",
   "metadata": {},
   "outputs": [],
   "source": []
  },
  {
   "cell_type": "code",
   "execution_count": null,
   "id": "d32e492b",
   "metadata": {},
   "outputs": [],
   "source": []
  },
  {
   "cell_type": "code",
   "execution_count": null,
   "id": "bc73e7e1",
   "metadata": {},
   "outputs": [],
   "source": []
  },
  {
   "cell_type": "markdown",
   "id": "42e93698",
   "metadata": {},
   "source": [
    "### Formatting Datetime"
   ]
  },
  {
   "cell_type": "code",
   "execution_count": null,
   "id": "be785430",
   "metadata": {},
   "outputs": [],
   "source": [
    "# Format datetime dtype as string\n",
    "dt.datetime.strftime()"
   ]
  },
  {
   "cell_type": "code",
   "execution_count": null,
   "id": "20ac1d20",
   "metadata": {},
   "outputs": [],
   "source": []
  },
  {
   "cell_type": "code",
   "execution_count": null,
   "id": "7093d22c",
   "metadata": {},
   "outputs": [],
   "source": []
  },
  {
   "cell_type": "code",
   "execution_count": null,
   "id": "6dd99bff",
   "metadata": {},
   "outputs": [],
   "source": []
  },
  {
   "cell_type": "markdown",
   "id": "a4a6651e",
   "metadata": {},
   "source": [
    "### Time Shifting"
   ]
  },
  {
   "cell_type": "code",
   "execution_count": null,
   "id": "575ada74",
   "metadata": {},
   "outputs": [],
   "source": [
    "dt.timedelta()"
   ]
  },
  {
   "cell_type": "code",
   "execution_count": null,
   "id": "19767d91",
   "metadata": {},
   "outputs": [],
   "source": []
  }
 ],
 "metadata": {
  "kernelspec": {
   "display_name": "Python [conda env:PythonData38]",
   "language": "python",
   "name": "conda-env-PythonData38-py"
  },
  "language_info": {
   "codemirror_mode": {
    "name": "ipython",
    "version": 3
   },
   "file_extension": ".py",
   "mimetype": "text/x-python",
   "name": "python",
   "nbconvert_exporter": "python",
   "pygments_lexer": "ipython3",
   "version": "3.8.8"
  }
 },
 "nbformat": 4,
 "nbformat_minor": 5
}
